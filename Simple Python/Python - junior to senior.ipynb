{
 "cells": [
  {
   "cell_type": "code",
   "execution_count": 11,
   "id": "50c95d85",
   "metadata": {},
   "outputs": [
    {
     "name": "stdout",
     "output_type": "stream",
     "text": [
      "Сколько чашек кофе?17\n",
      "2\n"
     ]
    }
   ],
   "source": [
    "coffee = int(input (\"Сколько чашек кофе?\"))\n",
    "output = coffee // 6\n",
    "print(output)"
   ]
  },
  {
   "cell_type": "code",
   "execution_count": 10,
   "id": "fbb2d64a",
   "metadata": {},
   "outputs": [
    {
     "name": "stdout",
     "output_type": "stream",
     "text": [
      "Сколько куриц?4\n",
      "Сколько коров?6\n",
      "Сколько свиней?8\n",
      "Количество ног животных:  64\n"
     ]
    }
   ],
   "source": [
    "#куры, коровы и свиньи\n",
    "\n",
    "chicken = int(input (\"Сколько куриц?\"))\n",
    "cow = int(input(\"Сколько коров?\"))\n",
    "pig = int(input(\"Сколько свиней?\"))\n",
    "\n",
    "output = (chicken * 2) + (cow * 4) + (pig * 4)\n",
    "print(\"Количество ног животных: \", output)"
   ]
  },
  {
   "cell_type": "code",
   "execution_count": 13,
   "id": "d91ef4f0",
   "metadata": {},
   "outputs": [
    {
     "name": "stdout",
     "output_type": "stream",
     "text": [
      "Координаты на оси Х для точки А1\n",
      "Координаты на оси Y для точки А2\n",
      "Координаты на оси Х для точки B6\n",
      "Координаты на оси Y для точки B7\n",
      "7.07\n"
     ]
    }
   ],
   "source": [
    "#AB = √(xb - xa)2 + (yb - ya)2\n",
    "\n",
    "import math\n",
    "\n",
    "xA = float(input(\"Координаты на оси Х для точки А\"))\n",
    "yA = float(input(\"Координаты на оси Y для точки А\"))\n",
    "xB = float(input(\"Координаты на оси Х для точки B\"))\n",
    "yB = float(input(\"Координаты на оси Y для точки B\"))\n",
    "\n",
    "output = math.sqrt((xB - xA)**2 + (yB - yA)**2)\n",
    "print(round(output, 2))"
   ]
  },
  {
   "cell_type": "code",
   "execution_count": 11,
   "id": "f29478b9",
   "metadata": {},
   "outputs": [
    {
     "name": "stdout",
     "output_type": "stream",
     "text": [
      "Please, could you give the number?6\n",
      "*\n",
      "**\n",
      "***\n",
      "****\n",
      "*****\n",
      "******\n"
     ]
    }
   ],
   "source": [
    "number = int(input(\"Please, could you give the number?\"))\n",
    "j = 1\n",
    "k = \"*\"\n",
    "\n",
    "while number >= j:\n",
    "    print(j*k)\n",
    "    j += 1"
   ]
  },
  {
   "cell_type": "code",
   "execution_count": 13,
   "id": "7d03f7fc",
   "metadata": {},
   "outputs": [
    {
     "name": "stdout",
     "output_type": "stream",
     "text": [
      "Please, could you give me a number?6\n",
      "0 is EVEN\n",
      "1 is ODD\n",
      "2 is EVEN\n",
      "3 is ODD\n",
      "4 is EVEN\n",
      "5 is ODD\n",
      "6 is EVEN\n"
     ]
    }
   ],
   "source": [
    "value = int(input(\"Please, could you give me a number?\"))\n",
    "j = 0\n",
    "\n",
    "while value >= j:\n",
    "    if j%2 == 0:\n",
    "        print (j, \"is EVEN\")\n",
    "        j += 1\n",
    "    else:\n",
    "        print (j, \"is ODD\")\n",
    "        j += 1\n",
    "    \n",
    "    "
   ]
  },
  {
   "cell_type": "code",
   "execution_count": 7,
   "id": "55ebc3d9",
   "metadata": {},
   "outputs": [
    {
     "name": "stdout",
     "output_type": "stream",
     "text": [
      "Write the number and I will answer more or less: 1\n",
      "More\n",
      "Write the number and I will answer more or less: 2\n",
      "More\n",
      "Write the number and I will answer more or less: 3\n",
      "More\n",
      "Write the number and I will answer more or less: 4\n",
      "More\n",
      "Write the number and I will answer more or less: 5\n",
      "More\n",
      "Write the number and I will answer more or less: 6\n",
      "More\n",
      "It was the last try! Try again!\n"
     ]
    }
   ],
   "source": [
    "#Угадай число от 1 до 50 за 6 попыток\n",
    "import random\n",
    "value = random.randint(1, 50)\n",
    "\n",
    "\n",
    "chanse = 0\n",
    "\n",
    "while chanse < 6:\n",
    "    x = int(input(\"Write the number and I will answer more or less: \"))\n",
    "    if x > value:\n",
    "        print(\"Less\")\n",
    "        chanse += 1\n",
    "    if x < value:\n",
    "        print(\"More\")\n",
    "        chanse += 1\n",
    "    if x == value:\n",
    "        print(\"Exactly! Good job!\")\n",
    "        break\n",
    "    if chanse == 6:\n",
    "        print (\"It was the last try! Try again!\")"
   ]
  },
  {
   "cell_type": "code",
   "execution_count": 2,
   "id": "0c1d8148",
   "metadata": {},
   "outputs": [
    {
     "name": "stdout",
     "output_type": "stream",
     "text": [
      "Input your choise: [r/s/p]s\n",
      "Computer choise = s\n",
      "A draw!\n",
      "Want to play more? Input [y/n]y\n",
      "Input your choise: [r/s/p]p\n",
      "Computer choise = r\n",
      "Plater wins\n",
      "Want to play more? Input [y/n]n\n"
     ]
    }
   ],
   "source": [
    "#Написать игру в \"камень-ножницы-бумага\" против компьютера\n",
    "#(R - камень, S - ножницы, P - бумага)\n",
    "import random\n",
    "\n",
    "win_combinations = [(\"p\", \"r\"), (\"r\" , \"s\"), (\"s\", \"p\")]\n",
    "\n",
    "while True is True:\n",
    "    human = input(f\"Input your choise: [r/s/p]\").lower()\n",
    "    comp = random.choice([\"r\", \"s\", \"p\"])\n",
    "    print(f\"Computer choise = {comp}\")\n",
    "    \n",
    "    if comp == human:\n",
    "        print(\"A draw!\")\n",
    "    \n",
    "    elif (human, comp) in win_combinations:\n",
    "        print(\"Plater wins\")\n",
    "    \n",
    "    else:\n",
    "        print(\"Computer wins\")\n",
    "    \n",
    "    cont = input(f\"Want to play more? Input [y/n]\").lower()\n",
    "    if cont != \"y\":\n",
    "        break"
   ]
  },
  {
   "cell_type": "code",
   "execution_count": 2,
   "id": "eebc391c",
   "metadata": {},
   "outputs": [
    {
     "name": "stdout",
     "output_type": "stream",
     "text": [
      "Enter any number, please121\n",
      "Palindrome\n"
     ]
    }
   ],
   "source": [
    "#Polindromes\n",
    "\n",
    "number = int(input(\"Enter any number, please\"))\n",
    "\n",
    "reversed_number = 0\n",
    "original = number\n",
    "\n",
    "while original > 0:\n",
    "    reversed_number = (reversed_number * 10) + original%10\n",
    "    original = original // 10\n",
    "    \n",
    "if number == reversed_number:\n",
    "    print(\"Palindrome\")\n",
    "else:\n",
    "    print(\"No Palindrome\")"
   ]
  },
  {
   "cell_type": "code",
   "execution_count": null,
   "id": "066ae6fc",
   "metadata": {},
   "outputs": [],
   "source": []
  }
 ],
 "metadata": {
  "kernelspec": {
   "display_name": "Python 3 (ipykernel)",
   "language": "python",
   "name": "python3"
  },
  "language_info": {
   "codemirror_mode": {
    "name": "ipython",
    "version": 3
   },
   "file_extension": ".py",
   "mimetype": "text/x-python",
   "name": "python",
   "nbconvert_exporter": "python",
   "pygments_lexer": "ipython3",
   "version": "3.10.9"
  }
 },
 "nbformat": 4,
 "nbformat_minor": 5
}
